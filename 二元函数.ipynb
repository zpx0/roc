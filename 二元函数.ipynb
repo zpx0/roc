{
 "cells": [
  {
   "cell_type": "code",
   "execution_count": 1,
   "id": "8e650367-910c-4857-bd23-0ce7f29be8c5",
   "metadata": {},
   "outputs": [
    {
     "name": "stdout",
     "output_type": "stream",
     "text": [
      "Requirement already satisfied: torch in c:\\programdata\\anaconda3\\lib\\site-packages (2.5.1)\n",
      "Requirement already satisfied: typing-extensions>=4.8.0 in c:\\programdata\\anaconda3\\lib\\site-packages (from torch) (4.12.2)\n",
      "Requirement already satisfied: fsspec in c:\\programdata\\anaconda3\\lib\\site-packages (from torch) (2022.7.1)\n",
      "Requirement already satisfied: sympy==1.13.1 in c:\\programdata\\anaconda3\\lib\\site-packages (from torch) (1.13.1)\n",
      "Requirement already satisfied: filelock in c:\\programdata\\anaconda3\\lib\\site-packages (from torch) (3.6.0)\n",
      "Requirement already satisfied: networkx in c:\\programdata\\anaconda3\\lib\\site-packages (from torch) (2.8.4)\n",
      "Requirement already satisfied: jinja2 in c:\\programdata\\anaconda3\\lib\\site-packages (from torch) (2.11.3)\n",
      "Requirement already satisfied: mpmath<1.4,>=1.1.0 in c:\\programdata\\anaconda3\\lib\\site-packages (from sympy==1.13.1->torch) (1.2.1)\n",
      "Requirement already satisfied: MarkupSafe>=0.23 in c:\\programdata\\anaconda3\\lib\\site-packages (from jinja2->torch) (2.0.1)\n",
      "Note: you may need to restart the kernel to use updated packages.\n"
     ]
    }
   ],
   "source": [
    "pip install torch"
   ]
  },
  {
   "cell_type": "code",
   "execution_count": null,
   "id": "5d46f9c5-7475-4746-be38-d4e4ebcce5ac",
   "metadata": {},
   "outputs": [
    {
     "data": {
      "image/png": "[encoded data removed]",
      "text/plain": [
       "<Figure size 640x480 with 1 Axes>"
      ]
     },
     "metadata": {},
     "output_type": "display_data"
    }
   ],
   "source": [
    "import torch\n",
    "import numpy as np\n",
    "import matplotlib.pyplot as plt\n",
    "from mpl_toolkits.mplot3d import Axes3D\n",
    "\n",
    "# 定义函数\n",
    "def f(x, y):\n",
    "    return x**3 - y**3 + 3*x**2 + 3*y**2 - 9*x\n",
    "\n",
    "# 定义偏导数\n",
    "def df_dx(x, y):\n",
    "    return 3*x**2 + 6*x - 9\n",
    "\n",
    "def df_dy(x, y):\n",
    "    return -3*y**2 + 6*y\n",
    "\n",
    "learning_rate = 0.1\n",
    "num_iterations = 20\n",
    "x0 = -1.0\n",
    "y0 = -0.5\n",
    "# 记录函数值\n",
    "loss_values = []\n",
    "\n",
    "x_values = [x0]\n",
    "y_values = [y0]\n",
    "# 执行梯度下降并记录函数值\n",
    "x = torch.tensor(x0, requires_grad=True)\n",
    "y = torch.tensor(y0, requires_grad=True)\n",
    "for i in range(num_iterations):\n",
    "    loss = f(x, y)\n",
    "    loss_values.append(loss.item())\n",
    "    loss.backward()\n",
    "with torch.no_grad():\n",
    "    x -= learning_rate * x.grad\n",
    "    y -= learning_rate * y.grad\n",
    "    x.grad.zero_()\n",
    "    y.grad.zero_()\n",
    "    x_values.append(x.item())\n",
    "    y_values.append(y.item())\n",
    "\n",
    "#绘制函数值的变化图\n",
    "plt.plot(loss_values)\n",
    "plt.xlabel('Iteration')\n",
    "plt.ylabel('Loss')\n",
    "plt.title('Gradient Descent Loss Curve')\n",
    "plt.show()\n",
    "\n",
    "#绘制迭代过程\n",
    "x = np.linspace(-1.5, 21.5, 100)\n",
    "y = np.linspace(-2, 2, 100)\n",
    "X, Y = np.meshgrid(x, y)\n",
    "Z = f(X, Y)\n",
    "\n",
    "fig = plt.figure()\n",
    "ax = fig.add_subplot(111, projection='3d')\n",
    "ax.plot_surface(X, Y, Z, cmap='viridis', alpha=0.5)\n",
    "ax.scatter(x_values, y_values, [f(x_val, y_val) for x_val, y_val in zip(x_values, y_values)], color='r')\n",
    "\n",
    "for i in range(1, len(x_values)):\n",
    "    x1, y1 = x_values[i-1], y_values[i-1]\n",
    "    x2, y2 = x_values[i], y_values[i]\n",
    "    u = x2 - x1\n",
    "    v = y2 - y1\n",
    "    w = f(x2, y2) - f(x1, y1)\n",
    "    z1 = f(x1, y1)\n",
    "    z2 = f(x2, y2)\n",
    "    length = np.sqrt((x2 - x1)**2 + (y2 - y1)**2 + (z2 - z1)**2)\n",
    "    ax.quiver(x1, y1, z1, u, v, w, length=length, normalize=True)\n",
    "\n",
    "ax.set_xlabel('X')\n",
    "ax.set_ylabel('Y')\n",
    "ax.set_zlabel('Z')\n",
    "plt.show()"
   ]
  },
  {
   "cell_type": "code",
   "execution_count": null,
   "id": "c5a727e7-bc2c-4a9c-9c53-5723ddcf2a0d",
   "metadata": {},
   "outputs": [],
   "source": []
  }
 ],
 "metadata": {
  "kernelspec": {
   "display_name": "Python 3 (ipykernel)",
   "language": "python",
   "name": "python3"
  },
  "language_info": {
   "codemirror_mode": {
    "name": "ipython",
    "version": 3
   },
   "file_extension": ".py",
   "mimetype": "text/x-python",
   "name": "python",
   "nbconvert_exporter": "python",
   "pygments_lexer": "ipython3",
   "version": "3.9.13"
  }
 },
 "nbformat": 4,
 "nbformat_minor": 5
}
