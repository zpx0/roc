{
 "cells": [
  {
   "cell_type": "code",
   "execution_count": 2,
   "id": "a7f0705a-e1f8-43d7-967b-b924c94bd10d",
   "metadata": {},
   "outputs": [],
   "source": [
    "import numpy as np\n",
    "import matplotlib.pyplot as plt\n",
    "import torch\n",
    "import torch.nn as nn\n",
    "import torch.optim as optim\n",
    "\n",
    "# 构造数据\n",
    "np.random.seed(0)\n",
    "x = np.linspace(-10, 10, 100)\n",
    "y = x**2 + 2*x + 1 + np.random.normal(0, 20, 100)  # 添加噪声\n",
    "\n",
    "# 转换为PyTorch张量\n",
    "x_tensor = torch.tensor(x, dtype=torch.float32).view(-1, 1)\n",
    "y_tensor = torch.tensor(y, dtype=torch.float32).view(-1, 1)"
   ]
  },
  {
   "cell_type": "code",
   "execution_count": null,
   "id": "0d447ed8-30e4-40e9-8a24-2b5e1b9ad387",
   "metadata": {},
   "outputs": [],
   "source": [
    "class QuadraticRegressionModel(nn.Module):\n",
    "    def __init__(self):\n",
    "        super(QuadraticRegressionModel, self).__init__()\n",
    "        self.linear = nn.Linear(1, 3)  # 输出三个系数\n",
    "\n",
    "    def forward(self, x):\n",
    "        return self.linear(x)\n",
    "\n",
    "# 实例化模型\n",
    "model = QuadraticRegressionModel()\n",
    "\n",
    "# 定义损失函数（均方误差）\n",
    "criterion = nn.MSELoss()\n",
    "\n",
    "# 选择优化器（梯度下降）\n",
    "optimizer = optim.SGD(model.parameters(), lr=0.01)\n",
    "\n",
    "# 训练模型\n",
    "num_epochs = 1000\n",
    "for epoch in range(num_epochs):\n",
    "    model.train()\n",
    "    predictions = model(x_tensor)\n",
    "    loss = criterion(predictions, y_tensor)\n",
    "\n",
    "    optimizer.zero_grad()\n",
    "    loss.backward()\n",
    "    optimizer.step()\n",
    "\n",
    "    if (epoch+1) % 100 == 0:\n",
    "        print(f'Epoch [{epoch+1}/{num_epochs}], Loss: {loss.item():.4f}')\n",
    "\n",
    "# 测试模型\n",
    "with torch.no_grad():\n",
    "    predicted = model(x_tensor)\n",
    "    a, b, c = predicted[0]  # 假设模型输出的系数为 a, b, c\n",
    "\n",
    "# 绘制原始数据点和拟合的二次曲线\n",
    "plt.scatter(x, y, color='blue')  # 绘制原始数据点\n",
    "\n",
    "# 生成拟合曲线的数据点\n",
    "x_fit = np.linspace(-10, 10, 400)\n",
    "y_fit = a.item() * x_fit**2 + b.item() * x_fit + c.item()\n",
    "plt.plot(x_fit, y_fit, color='red')  # 绘制拟合的二次曲线\n",
    "\n",
    "plt.xlabel('X')\n",
    "plt.ylabel('Y')\n",
    "plt.title('Quadratic Regression Model')\n",
    "plt.show()"
   ]
  }
 ],
 "metadata": {
  "kernelspec": {
   "display_name": "Python 3 (ipykernel)",
   "language": "python",
   "name": "python3"
  },
  "language_info": {
   "codemirror_mode": {
    "name": "ipython",
    "version": 3
   },
   "file_extension": ".py",
   "mimetype": "text/x-python",
   "name": "python",
   "nbconvert_exporter": "python",
   "pygments_lexer": "ipython3",
   "version": "3.9.13"
  }
 },
 "nbformat": 4,
 "nbformat_minor": 5
}
