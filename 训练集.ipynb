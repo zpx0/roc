{
 "cells": [
  {
   "cell_type": "code",
   "execution_count": null,
   "id": "361a1ee6-314c-4bdb-8409-a2e427d9db9d",
   "metadata": {},
   "outputs": [],
   "source": [
    "from sklearn.datasets import load_breast_cancer\n",
    "from sklearn.model_selection import train_test_split\n",
    "from sklearn.linear_model import LogisticRegression\n",
    "from sklearn.metrics import classification_report,accuracy_score\n",
    "X,y=load_breast_cancer(return_X_y=True)\n",
    "import pandas as pd\n",
    "print(X.shape)\n",
    "n = pd.DataFrame(X)\n",
    "n.info()\n",
    "\n",
    "print(n.describe)\n",
    "#print(n.head())\n",
    "#print(n)"
   ]
  },
  {
   "cell_type": "code",
   "execution_count": null,
   "id": "9f29c020-2d97-4699-8ae1-56f8cb5cb224",
   "metadata": {},
   "outputs": [],
   "source": [
    "X_train, X_test, y_train, y_test=train_test_split(\n",
    "    X,y,\n",
    "    train_size=0.875,test_size=0.125, random_state=188\n",
    ")\n",
    "clf = LogisticRegression(\n",
    "    penalty=\"l2\", C=1.0, random_state=None,solver=\"lbfgs\", max_iter=3000,\n",
    "    multi_class='ovr',verbose=0,\n",
    ")\n",
    "# 使用训练数据来学习（拟合）\n",
    "clf.fit(X_train, y_train)"
   ]
  },
  {
   "cell_type": "code",
   "execution_count": null,
   "id": "4174ac26-3fcd-4c53-b746-38191afc4084",
   "metadata": {},
   "outputs": [],
   "source": [
    "from sklearn.preprocessing import StandardScaler\n",
    "scaler = StandardScaler()\n",
    "X_train_scaled = scaler.fit_transform(X_train)\n",
    "X_test_scaled = scaler.transform(X_test)\n",
    "\n",
    "clf = LogisticRegression(max_iter=5000, solver='saga', multi_class='ovr')\n",
    "clf.fit(X_train_scaled, y_train)"
   ]
  },
  {
   "cell_type": "code",
   "execution_count": null,
   "id": "2e728314-68f4-42c7-872b-1129501195dc",
   "metadata": {},
   "outputs": [],
   "source": [
    "y_pred=clf.predict(X_test)\n",
    "print('--- report ---')\n",
    "print(classification_report(y_test, y_pred))\n",
    "\n",
    "print('--- params ---')\n",
    "print(clf.coef_, clf.intercept_)\n",
    "\n",
    "print('--- accuracy ---')\n",
    "print(accuracy_score(y_test, y_pred))"
   ]
  }
 ],
 "metadata": {
  "kernelspec": {
   "display_name": "Python 3 (ipykernel)",
   "language": "python",
   "name": "python3"
  },
  "language_info": {
   "codemirror_mode": {
    "name": "ipython",
    "version": 3
   },
   "file_extension": ".py",
   "mimetype": "text/x-python",
   "name": "python",
   "nbconvert_exporter": "python",
   "pygments_lexer": "ipython3",
   "version": "3.9.13"
  }
 },
 "nbformat": 4,
 "nbformat_minor": 5
}
