{
 "cells": [
  {
   "cell_type": "code",
   "execution_count": 3,
   "id": "e048e7fd-9649-4bbd-b4a8-86030e146cb7",
   "metadata": {},
   "outputs": [
    {
     "name": "stdout",
     "output_type": "stream",
     "text": [
      "Collecting zhipuai\n",
      "  Downloading zhipuai-2.1.5.20230904-py3-none-any.whl (104 kB)\n",
      "     ------------------------------------ 105.0/105.0 kB 287.9 kB/s eta 0:00:00\n",
      "Collecting pydantic<3.0,>=1.9.0\n",
      "  Downloading pydantic-2.10.0-py3-none-any.whl (454 kB)\n",
      "     -------------------------------------- 454.3/454.3 kB 1.3 MB/s eta 0:00:00\n",
      "Collecting pydantic-core>=2.14.6\n",
      "  Downloading pydantic_core-2.27.0-cp39-none-win_amd64.whl (2.0 MB)\n",
      "     ---------------------------------------- 2.0/2.0 MB 5.0 MB/s eta 0:00:00\n",
      "Collecting pyjwt<2.9.0,>=2.8.0\n",
      "  Downloading PyJWT-2.8.0-py3-none-any.whl (22 kB)\n",
      "Collecting cachetools>=4.2.2\n",
      "  Downloading cachetools-5.5.0-py3-none-any.whl (9.5 kB)\n",
      "Collecting httpx>=0.23.0\n",
      "  Downloading httpx-0.27.2-py3-none-any.whl (76 kB)\n",
      "     ---------------------------------------- 76.4/76.4 kB 4.4 MB/s eta 0:00:00\n",
      "Requirement already satisfied: sniffio in c:\\programdata\\anaconda3\\lib\\site-packages (from httpx>=0.23.0->zhipuai) (1.2.0)\n",
      "Requirement already satisfied: anyio in c:\\programdata\\anaconda3\\lib\\site-packages (from httpx>=0.23.0->zhipuai) (3.5.0)\n",
      "Requirement already satisfied: certifi in c:\\programdata\\anaconda3\\lib\\site-packages (from httpx>=0.23.0->zhipuai) (2022.9.14)\n",
      "Requirement already satisfied: idna in c:\\programdata\\anaconda3\\lib\\site-packages (from httpx>=0.23.0->zhipuai) (3.3)\n",
      "Collecting httpcore==1.*\n",
      "  Downloading httpcore-1.0.7-py3-none-any.whl (78 kB)\n",
      "     ---------------------------------------- 78.6/78.6 kB 4.6 MB/s eta 0:00:00\n",
      "Collecting h11<0.15,>=0.13\n",
      "  Downloading h11-0.14.0-py3-none-any.whl (58 kB)\n",
      "     ---------------------------------------- 58.3/58.3 kB ? eta 0:00:00\n",
      "Requirement already satisfied: typing-extensions>=4.12.2 in c:\\programdata\\anaconda3\\lib\\site-packages (from pydantic<3.0,>=1.9.0->zhipuai) (4.12.2)\n",
      "Collecting annotated-types>=0.6.0\n",
      "  Downloading annotated_types-0.7.0-py3-none-any.whl (13 kB)\n",
      "Installing collected packages: pyjwt, pydantic-core, h11, cachetools, annotated-types, pydantic, httpcore, httpx, zhipuai\n",
      "  Attempting uninstall: pyjwt\n",
      "    Found existing installation: PyJWT 2.4.0\n",
      "    Uninstalling PyJWT-2.4.0:\n",
      "      Successfully uninstalled PyJWT-2.4.0\n",
      "Successfully installed annotated-types-0.7.0 cachetools-5.5.0 h11-0.14.0 httpcore-1.0.7 httpx-0.27.2 pydantic-2.10.0 pydantic-core-2.27.0 pyjwt-2.8.0 zhipuai-2.1.5.20230904\n",
      "Note: you may need to restart the kernel to use updated packages.\n"
     ]
    }
   ],
   "source": [
    "pip install zhipuai"
   ]
  },
  {
   "cell_type": "code",
   "execution_count": null,
   "id": "33749d49-d7d4-494c-a03b-0192ffa5a443",
   "metadata": {},
   "outputs": [
    {
     "name": "stdout",
     "output_type": "stream",
     "text": [
      "通常来说，视频理解的响应时间较长，需要等待数十秒......\n"
     ]
    }
   ],
   "source": [
    "import os\n",
    "import base64\n",
    "from zhipuai import ZhipuAI\n",
    "\n",
    "# 设置API密钥\n",
    "os.environ[\"ZHIPUAI_API_KEY\"] = \"3f2912842023d9dec1eb8311c47ccf60.FAHgRSV4O0f3WYG6\"\n",
    "client = ZhipuAI()\n",
    "\n",
    "# 更新视频路径为新视频的路径\n",
    "video_path = \"D:v.mp4\"  # 替换为您的新视频文件名和路径\n",
    "\n",
    "# 读取视频文件并编码为Base64\n",
    "with open(video_path, 'rb') as video_file:\n",
    "    video_base = base64.b64encode(video_file.read()).decode('utf-8')\n",
    "\n",
    "print(\"通常来说，视频理解的响应时间较长，需要等待数十秒......\")\n",
    "\n",
    "# 发送请求到ZhipuAI API\n",
    "response = client.chat.completions.create(\n",
    "    model=\"glm-4v-plus\",\n",
    "    temperature=0.0,\n",
    "    top_p=0,\n",
    "    \n",
    "    messages=[{\n",
    "        \"role\": \"user\",\n",
    "        \"content\": [{\n",
    "            \"type\": \"video_url\",\n",
    "            \"video_url\": {\"url\": video_base}\n",
    "        }, {\n",
    "            \"type\": \"text\",\n",
    "            \"text\": \"请仔细描述这个视频的环境，图中的人物在干啥，以有趣的方式讲给我听\"  # 可以根据需要调整提示文本\n",
    "        }]\n",
    "    }])\n",
    "# 打印API的响应\n",
    "print(response.choices[0].message)"
   ]
  },
  {
   "cell_type": "code",
   "execution_count": null,
   "id": "6fa9b8b5-add5-48e9-8f16-a96cd4e0f8cb",
   "metadata": {},
   "outputs": [],
   "source": []
  }
 ],
 "metadata": {
  "kernelspec": {
   "display_name": "Python 3 (ipykernel)",
   "language": "python",
   "name": "python3"
  },
  "language_info": {
   "codemirror_mode": {
    "name": "ipython",
    "version": 3
   },
   "file_extension": ".py",
   "mimetype": "text/x-python",
   "name": "python",
   "nbconvert_exporter": "python",
   "pygments_lexer": "ipython3",
   "version": "3.9.13"
  }
 },
 "nbformat": 4,
 "nbformat_minor": 5
}
